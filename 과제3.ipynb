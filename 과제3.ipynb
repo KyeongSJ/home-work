{
 "cells": [
  {
   "cell_type": "code",
   "execution_count": 1,
   "id": "d3555da5-7f05-4306-8564-5f58ef62d4c7",
   "metadata": {},
   "outputs": [],
   "source": [
    "hairstyles = [\n",
    "  \"bouffant\", \"pixie\", \"dreadlocks\", \"crew\", \"bowl\", \"bob\", \"mohawk\", \"flattop\"\n",
    "]"
   ]
  },
  {
   "cell_type": "code",
   "execution_count": 2,
   "id": "e425f88f-457d-49ac-84e8-d35d63d50ee6",
   "metadata": {},
   "outputs": [],
   "source": [
    "prices = [30, 25, 40, 20, 20, 35, 50, 35]"
   ]
  },
  {
   "cell_type": "code",
   "execution_count": 3,
   "id": "3c78b5a6-5cd8-4cfe-abfc-3f2275195f30",
   "metadata": {},
   "outputs": [],
   "source": [
    "last_week = [2, 3, 5, 8, 4, 4, 6, 2]"
   ]
  },
  {
   "cell_type": "code",
   "execution_count": null,
   "id": "a6e0a195-979f-448c-9ed8-e3158079232e",
   "metadata": {},
   "outputs": [],
   "source": []
  },
  {
   "cell_type": "code",
   "execution_count": 4,
   "id": "2263a527-6b7c-4bb4-a1e4-023e6152a90e",
   "metadata": {},
   "outputs": [],
   "source": [
    "total_price = 0"
   ]
  },
  {
   "cell_type": "code",
   "execution_count": null,
   "id": "0b1672a3-01d3-47d3-9ccb-bc6ef84cc574",
   "metadata": {},
   "outputs": [],
   "source": []
  },
  {
   "cell_type": "code",
   "execution_count": 5,
   "id": "85d80fc3-7fe9-4b9d-8b97-a9b82b9d893a",
   "metadata": {},
   "outputs": [],
   "source": [
    "for i in prices:\n",
    "      total_price += i"
   ]
  },
  {
   "cell_type": "code",
   "execution_count": 6,
   "id": "be57f4b7-f286-4ca1-92ca-2e43df086978",
   "metadata": {},
   "outputs": [],
   "source": [
    "average_price = total_price / len(prices)"
   ]
  },
  {
   "cell_type": "code",
   "execution_count": 7,
   "id": "fc7fa1f1-3ad6-40e4-b721-0d45c38d0354",
   "metadata": {},
   "outputs": [
    {
     "name": "stdout",
     "output_type": "stream",
     "text": [
      "average_price is  31.875\n"
     ]
    }
   ],
   "source": [
    "print(\"average_price is \", average_price)"
   ]
  },
  {
   "cell_type": "code",
   "execution_count": 8,
   "id": "351a7546-59d4-4509-9c4e-117ee8962ba5",
   "metadata": {},
   "outputs": [],
   "source": [
    "new_prices = [i - 5 for i in prices]"
   ]
  },
  {
   "cell_type": "code",
   "execution_count": 9,
   "id": "2028c4fe-b0dc-4ad3-b444-a62244bac905",
   "metadata": {},
   "outputs": [
    {
     "name": "stdout",
     "output_type": "stream",
     "text": [
      "[25, 20, 35, 15, 15, 30, 45, 30]\n"
     ]
    }
   ],
   "source": [
    "print(new_prices)"
   ]
  },
  {
   "cell_type": "code",
   "execution_count": null,
   "id": "ffda6bd4-9b35-4a8a-90be-a02a802fa2a1",
   "metadata": {},
   "outputs": [],
   "source": []
  },
  {
   "cell_type": "code",
   "execution_count": 10,
   "id": "5f92d05b-6bc7-435c-8759-f342ef7fa74f",
   "metadata": {},
   "outputs": [],
   "source": [
    "total_revenue = 0"
   ]
  },
  {
   "cell_type": "code",
   "execution_count": null,
   "id": "d58422db-239f-40d4-97ab-b9cc41f0cce4",
   "metadata": {},
   "outputs": [],
   "source": []
  },
  {
   "cell_type": "code",
   "execution_count": 11,
   "id": "28ab350e-bcf6-4f85-adac-8312f0bbed14",
   "metadata": {},
   "outputs": [],
   "source": [
    "for i in range(len(hairstyles)):\n",
    "    total_revenue += (prices[i] * last_week[i])"
   ]
  },
  {
   "cell_type": "code",
   "execution_count": null,
   "id": "2651bbe9-3d21-400e-ab1c-6c5976bfd2a8",
   "metadata": {},
   "outputs": [],
   "source": []
  },
  {
   "cell_type": "code",
   "execution_count": 12,
   "id": "2a95a80b-c748-4c70-a527-60102818511a",
   "metadata": {},
   "outputs": [
    {
     "name": "stdout",
     "output_type": "stream",
     "text": [
      "1085\n"
     ]
    }
   ],
   "source": [
    " print(total_revenue)"
   ]
  },
  {
   "cell_type": "code",
   "execution_count": null,
   "id": "2e061238-7368-4cb6-b7cf-a034f8d7086a",
   "metadata": {},
   "outputs": [],
   "source": []
  },
  {
   "cell_type": "code",
   "execution_count": 13,
   "id": "55bcf469-cac9-43e2-8e89-926603e829a5",
   "metadata": {},
   "outputs": [],
   "source": [
    "average_daily_revenue = total_revenue / 7                             "
   ]
  },
  {
   "cell_type": "code",
   "execution_count": null,
   "id": "35291527-613e-4e79-84cc-a3236b393d5f",
   "metadata": {},
   "outputs": [],
   "source": []
  },
  {
   "cell_type": "code",
   "execution_count": 14,
   "id": "c83002b5-b224-4e49-86a0-68442a98e3b0",
   "metadata": {},
   "outputs": [
    {
     "name": "stdout",
     "output_type": "stream",
     "text": [
      "Average daily revenue is   155.0\n"
     ]
    }
   ],
   "source": [
    "print(\"Average daily revenue is  \", average_daily_revenue)"
   ]
  },
  {
   "cell_type": "code",
   "execution_count": null,
   "id": "a676d513-d6e8-458d-8f57-564bbe48d37e",
   "metadata": {},
   "outputs": [],
   "source": []
  },
  {
   "cell_type": "code",
   "execution_count": 15,
   "id": "4668ce9c-a4a6-456f-9764-fa87ab6e517b",
   "metadata": {},
   "outputs": [],
   "source": [
    "cuts_under_30 = [\n",
    "  hairstyles[i] for i in range(len(new_prices)) if new_prices[i] < 30\n",
    "]"
   ]
  },
  {
   "cell_type": "code",
   "execution_count": null,
   "id": "c9033504-bd69-4e0f-9d8c-75ce344969c4",
   "metadata": {},
   "outputs": [],
   "source": []
  },
  {
   "cell_type": "code",
   "execution_count": 16,
   "id": "184cf74b-e75b-40a7-bda4-33f73f2d2042",
   "metadata": {},
   "outputs": [
    {
     "name": "stdout",
     "output_type": "stream",
     "text": [
      "['bouffant', 'pixie', 'crew', 'bowl']\n"
     ]
    }
   ],
   "source": [
    "print(cuts_under_30)"
   ]
  },
  {
   "cell_type": "code",
   "execution_count": null,
   "id": "784051c0-899b-4c39-8932-ed7846a631f0",
   "metadata": {},
   "outputs": [],
   "source": []
  }
 ],
 "metadata": {
  "kernelspec": {
   "display_name": "Python 3 (ipykernel)",
   "language": "python",
   "name": "python3"
  },
  "language_info": {
   "codemirror_mode": {
    "name": "ipython",
    "version": 3
   },
   "file_extension": ".py",
   "mimetype": "text/x-python",
   "name": "python",
   "nbconvert_exporter": "python",
   "pygments_lexer": "ipython3",
   "version": "3.9.12"
  }
 },
 "nbformat": 4,
 "nbformat_minor": 5
}
