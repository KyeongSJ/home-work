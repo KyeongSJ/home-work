{
 "cells": [
  {
   "cell_type": "code",
   "execution_count": 1,
   "id": "f9a5aab0-d241-4c50-9193-3c31903215ca",
   "metadata": {},
   "outputs": [],
   "source": [
    "monthlist = ['쌍', '쇠', '복', '돌', '팽', '육', '쌍', '개', '칠', '갑', '삼', '방']"
   ]
  },
  {
   "cell_type": "code",
   "execution_count": 2,
   "id": "2d2d97a6-8301-44c0-b976-5ba0626bf4f8",
   "metadata": {},
   "outputs": [],
   "source": [
    "daylist = [\n",
    "  '봉', '구', '욕', '포', '똥', '삼', '식', '석', '놈', '님', '년', '돌', '단', '득', '방',\n",
    "  '질', '장', '걸', '래', '룡', '동', '순', '자', '박', '창', '언', '것', '포', '만', '단',\n",
    "  '국'\n",
    "]"
   ]
  },
  {
   "cell_type": "code",
   "execution_count": 3,
   "id": "57088a4c-9d5a-4e52-a8a9-6ea2bf5f2e16",
   "metadata": {},
   "outputs": [],
   "source": [
    "def get_my_chosun_name(family_name, month, day):\n",
    "      print(\"당신의 조선시대 이름은\", family_name + monthlist[month - 1] + daylist[day - 1],\n",
    "        \"입니다.\")\n"
   ]
  },
  {
   "cell_type": "code",
   "execution_count": 4,
   "id": "e18b3765-30d4-4942-b36d-58cd142d2779",
   "metadata": {},
   "outputs": [
    {
     "name": "stdout",
     "output_type": "stream",
     "text": [
      "당신의 조선시대 이름은 안칠걸 입니다.\n"
     ]
    }
   ],
   "source": [
    "get_my_chosun_name('안', 9, 18)"
   ]
  }
 ],
 "metadata": {
  "kernelspec": {
   "display_name": "Python 3 (ipykernel)",
   "language": "python",
   "name": "python3"
  },
  "language_info": {
   "codemirror_mode": {
    "name": "ipython",
    "version": 3
   },
   "file_extension": ".py",
   "mimetype": "text/x-python",
   "name": "python",
   "nbconvert_exporter": "python",
   "pygments_lexer": "ipython3",
   "version": "3.9.12"
  }
 },
 "nbformat": 4,
 "nbformat_minor": 5
}
